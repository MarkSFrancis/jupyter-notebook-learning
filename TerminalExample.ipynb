{
 "cells": [
  {
   "cell_type": "markdown",
   "metadata": {},
   "source": [
    "# Cross Platform"
   ]
  },
  {
   "cell_type": "code",
   "execution_count": 35,
   "metadata": {},
   "outputs": [
    {
     "name": "stderr",
     "output_type": "stream",
     "text": [
      "'ls' is not recognized as an internal or external command,\n",
      "operable program or batch file.\n"
     ]
    }
   ],
   "source": [
    "!ls"
   ]
  },
  {
   "cell_type": "markdown",
   "metadata": {},
   "source": [
    "# Windows"
   ]
  },
  {
   "cell_type": "code",
   "execution_count": 36,
   "metadata": {},
   "outputs": [
    {
     "name": "stdout",
     "output_type": "stream",
     "text": [
      " Volume in drive C is OS\n",
      " Volume Serial Number is 12C8-4F34\n",
      "\n",
      " Directory of C:\\Code\\Notebooks\\jupyter-notebook-learning\n",
      "\n",
      "01/08/2019  15:26    <DIR>          .\n",
      "01/08/2019  15:26    <DIR>          ..\n",
      "01/08/2019  15:24    <DIR>          .ipynb_checkpoints\n",
      "01/08/2019  15:25               555 CsvExample.ipynb\n",
      "01/08/2019  14:35             1,234 LICENSE\n",
      "01/08/2019  14:35               800 README.md\n",
      "01/08/2019  15:23                 0 sample-data.csv\n",
      "01/08/2019  15:26             1,548 TerminalExample.ipynb\n",
      "               5 File(s)          4,137 bytes\n",
      "               3 Dir(s)  346,502,459,392 bytes free\n"
     ]
    }
   ],
   "source": [
    "!dir"
   ]
  }
 ],
 "metadata": {
  "kernelspec": {
   "display_name": "Python 3",
   "language": "python",
   "name": "python3"
  },
  "language_info": {
   "codemirror_mode": {
    "name": "ipython",
    "version": 3
   },
   "file_extension": ".py",
   "mimetype": "text/x-python",
   "name": "python",
   "nbconvert_exporter": "python",
   "pygments_lexer": "ipython3",
   "version": "3.7.3"
  }
 },
 "nbformat": 4,
 "nbformat_minor": 2
}
