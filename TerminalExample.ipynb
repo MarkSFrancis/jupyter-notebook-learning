{
 "cells": [
  {
   "cell_type": "markdown",
   "metadata": {},
   "source": [
    "# Cross Platform"
   ]
  },
  {
   "cell_type": "code",
   "execution_count": 35,
   "metadata": {},
   "outputs": [
    {
     "name": "stderr",
     "output_type": "stream",
     "text": [
      "'ls' is not recognized as an internal or external command,\n",
      "operable program or batch file.\n"
     ]
    }
   ],
   "source": [
    "!ls"
   ]
  },
  {
   "cell_type": "markdown",
   "metadata": {},
   "source": [
    "# Windows"
   ]
  },
  {
   "cell_type": "code",
   "execution_count": 37,
   "metadata": {},
   "outputs": [
    {
     "name": "stdout",
     "output_type": "stream",
     "text": [
      " Volume in drive C is OS\n",
      " Volume Serial Number is 12C8-4F34\n",
      "\n",
      " Directory of C:\\Code\\Notebooks\\jupyter-notebook-learning\n",
      "\n",
      "01/08/2019  15:44    <DIR>          .\n",
      "01/08/2019  15:44    <DIR>          ..\n",
      "01/08/2019  15:42                20 .gitignore\n",
      "01/08/2019  15:24    <DIR>          .ipynb_checkpoints\n",
      "01/08/2019  15:39            34,614 CsvExample.ipynb\n",
      "01/08/2019  14:35             1,234 LICENSE\n",
      "01/08/2019  15:45             1,026 README.md\n",
      "01/08/2019  15:37             5,618 sample-data.csv\n",
      "01/08/2019  15:28             1,949 TerminalExample.ipynb\n",
      "               6 File(s)         44,461 bytes\n",
      "               3 Dir(s)  345,655,459,840 bytes free\n"
     ]
    }
   ],
   "source": [
    "!dir"
   ]
  },
  {
   "cell_type": "code",
   "execution_count": 38,
   "metadata": {},
   "outputs": [
    {
     "name": "stdout",
     "output_type": "stream",
     "text": [
      "C:\\Code\\Notebooks\n"
     ]
    }
   ],
   "source": [
    "cd .."
   ]
  },
  {
   "cell_type": "code",
   "execution_count": 39,
   "metadata": {},
   "outputs": [
    {
     "name": "stdout",
     "output_type": "stream",
     "text": [
      "C:\\Code\\Notebooks\\jupyter-notebook-learning\n"
     ]
    }
   ],
   "source": [
    "cd jupyter-notebook-learning/"
   ]
  },
  {
   "cell_type": "code",
   "execution_count": 40,
   "metadata": {},
   "outputs": [
    {
     "name": "stdout",
     "output_type": "stream",
     "text": [
      " Volume in drive C is OS\n",
      " Volume Serial Number is 12C8-4F34\n",
      "\n",
      " Directory of C:\\Code\\Notebooks\\jupyter-notebook-learning\n",
      "\n",
      "01/08/2019  15:44    <DIR>          .\n",
      "01/08/2019  15:44    <DIR>          ..\n",
      "01/08/2019  15:42                20 .gitignore\n",
      "01/08/2019  15:24    <DIR>          .ipynb_checkpoints\n",
      "01/08/2019  15:39            34,614 CsvExample.ipynb\n",
      "01/08/2019  14:35             1,234 LICENSE\n",
      "01/08/2019  15:45             1,026 README.md\n",
      "01/08/2019  15:37             5,618 sample-data.csv\n",
      "01/08/2019  15:28             1,949 TerminalExample.ipynb\n",
      "               6 File(s)         44,461 bytes\n",
      "               3 Dir(s)  345,655,648,256 bytes free\n"
     ]
    }
   ],
   "source": [
    "!dir"
   ]
  },
  {
   "cell_type": "code",
   "execution_count": null,
   "metadata": {},
   "outputs": [],
   "source": []
  }
 ],
 "metadata": {
  "kernelspec": {
   "display_name": "Python 3",
   "language": "python",
   "name": "python3"
  },
  "language_info": {
   "codemirror_mode": {
    "name": "ipython",
    "version": 3
   },
   "file_extension": ".py",
   "mimetype": "text/x-python",
   "name": "python",
   "nbconvert_exporter": "python",
   "pygments_lexer": "ipython3",
   "version": "3.7.3"
  }
 },
 "nbformat": 4,
 "nbformat_minor": 2
}
